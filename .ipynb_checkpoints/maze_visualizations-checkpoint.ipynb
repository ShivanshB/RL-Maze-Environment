{
 "cells": [
  {
   "cell_type": "markdown",
   "id": "6903fd7b-31a6-42a4-a062-7e5332308508",
   "metadata": {},
   "source": [
    "# Maze Gen"
   ]
  },
  {
   "cell_type": "code",
   "execution_count": 1,
   "id": "30f637e7-efec-491f-aa89-4ba8e539c5f5",
   "metadata": {},
   "outputs": [
    {
     "data": {
      "text/plain": [
       "<module 'generate_maze' from '/Users/sbaveja/Documents/RL-Maze-Environment/generate_maze.py'>"
      ]
     },
     "execution_count": 1,
     "metadata": {},
     "output_type": "execute_result"
    }
   ],
   "source": [
    "import importlib\n",
    "import generate_maze\n",
    "import matplotlib.colors as mcolors\n",
    "\n",
    "# Make changes to your_module.py\n",
    "\n",
    "# Reload the module to reflect changes\n",
    "importlib.reload(generate_maze)"
   ]
  },
  {
   "cell_type": "code",
   "execution_count": 2,
   "id": "9773cea2-11eb-47a4-a5e8-08490cffd72c",
   "metadata": {},
   "outputs": [],
   "source": [
    "from generate_maze import MazeGenerator\n",
    "import matplotlib.pyplot as plt\n",
    "\n",
    "cmap = mcolors.ListedColormap(['white', 'black', 'red', 'green'])"
   ]
  },
  {
   "cell_type": "code",
   "execution_count": 4,
   "id": "a94516bc-dc53-4fa4-a962-6dead8d74556",
   "metadata": {},
   "outputs": [
    {
     "ename": "NameError",
     "evalue": "name 'norm' is not defined",
     "output_type": "error",
     "traceback": [
      "\u001b[0;31m---------------------------------------------------------------------------\u001b[0m",
      "\u001b[0;31mNameError\u001b[0m                                 Traceback (most recent call last)",
      "Cell \u001b[0;32mIn[4], line 2\u001b[0m\n\u001b[1;32m      1\u001b[0m maze_generator \u001b[38;5;241m=\u001b[39m MazeGenerator(\u001b[38;5;241m20\u001b[39m, \u001b[38;5;241m20\u001b[39m, animation\u001b[38;5;241m=\u001b[39m\u001b[38;5;28;01mTrue\u001b[39;00m)\n\u001b[0;32m----> 2\u001b[0m plt\u001b[38;5;241m.\u001b[39mimshow(maze_generator\u001b[38;5;241m.\u001b[39mmaze, cmap\u001b[38;5;241m=\u001b[39mcmap, norm\u001b[38;5;241m=\u001b[39m\u001b[43mnorm\u001b[49m)\n\u001b[1;32m      3\u001b[0m maze_generator\u001b[38;5;241m.\u001b[39manimate()\n",
      "\u001b[0;31mNameError\u001b[0m: name 'norm' is not defined"
     ]
    }
   ],
   "source": [
    "maze_generator = MazeGenerator(20, 20, animation=True)\n",
    "plt.imshow(maze_generator.maze, cmap=cmap, norm=norm)\n",
    "maze_generator.animate()"
   ]
  },
  {
   "cell_type": "code",
   "execution_count": 250,
   "id": "772ae2aa-fad5-4b45-a9c4-ee8ebf05a2aa",
   "metadata": {},
   "outputs": [],
   "source": [
    "maze_generator.maze[tuple(maze_generator.get_finish())] = 2\n",
    "maze_generator.maze[0, 0] = 3"
   ]
  },
  {
   "cell_type": "code",
   "execution_count": 251,
   "id": "b2d6d2de-6db2-4b2c-98d3-831373423716",
   "metadata": {},
   "outputs": [
    {
     "data": {
      "text/plain": [
       "<matplotlib.image.AxesImage at 0x42aae7370>"
      ]
     },
     "execution_count": 251,
     "metadata": {},
     "output_type": "execute_result"
    },
    {
     "data": {
      "image/png": "[encoded data removed]",
      "text/plain": [
       "<Figure size 640x480 with 1 Axes>"
      ]
     },
     "metadata": {},
     "output_type": "display_data"
    }
   ],
   "source": [
    "plt.imshow(maze_generator.maze, cmap=cmap)"
   ]
  },
  {
   "cell_type": "code",
   "execution_count": null,
   "id": "c3ec7933-3712-495c-99a9-25244a02fd0c",
   "metadata": {},
   "outputs": [],
   "source": []
  }
 ],
 "metadata": {
  "kernelspec": {
   "display_name": "Python 3 (ipykernel)",
   "language": "python",
   "name": "python3"
  },
  "language_info": {
   "codemirror_mode": {
    "name": "ipython",
    "version": 3
   },
   "file_extension": ".py",
   "mimetype": "text/x-python",
   "name": "python",
   "nbconvert_exporter": "python",
   "pygments_lexer": "ipython3",
   "version": "3.9.6"
  }
 },
 "nbformat": 4,
 "nbformat_minor": 5
}
